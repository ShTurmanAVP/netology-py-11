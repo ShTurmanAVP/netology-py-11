{
 "cells": [
  {
   "cell_type": "code",
   "execution_count": 36,
   "metadata": {},
   "outputs": [],
   "source": [
    "import pandas as pd\n",
    "import numpy as np\n",
    "import matplotlib.pyplot as plt\n",
    "\n",
    "%matplotlib inline"
   ]
  },
  {
   "cell_type": "code",
   "execution_count": 48,
   "metadata": {},
   "outputs": [],
   "source": [
    "DATA_PATH = 'names\\\\'\n",
    "TOP_NUMBER = 3\n",
    "YEARS = [1900, 1950, 2000]"
   ]
  },
  {
   "cell_type": "code",
   "execution_count": 97,
   "metadata": {},
   "outputs": [
    {
     "name": "stdout",
     "output_type": "stream",
     "text": [
      "['James' 'Robert' 'Linda']\n"
     ]
    }
   ],
   "source": [
    "def count_top_n(n, years):\n",
    "    df = pd.concat([pd.read_csv(DATA_PATH + 'yob' + str(year) + '.txt', names=['Name','Gender','Count']) for year in years])\n",
    "    # print(df['Name'].value_counts().head(n).index.tolist())\n",
    "    print(df.sort_values(by='Count', ascending=False).head(n)['Name'].values)\n",
    "    \n",
    "count_top_n(TOP_NUMBER, YEARS)"
   ]
  },
  {
   "cell_type": "code",
   "execution_count": 126,
   "metadata": {},
   "outputs": [
    {
     "name": "stdout",
     "output_type": "stream",
     "text": [
      "{'F': [299810, 1713259, 1814922], 'M': [150486, 1790871, 1962744]}\n"
     ]
    }
   ],
   "source": [
    "# Тут сделал довольно топорно, наверняка ведь есть более изящный способ, чтобы не строить dict самому?\n",
    "def count_dynamics(years):\n",
    "    result = {}\n",
    "    for gender in 'FM':\n",
    "        result[gender] = []\n",
    "        for year in years:\n",
    "            df = pd.read_csv(DATA_PATH + 'yob' + str(year) + '.txt', names=['Name','Gender','Count'])\n",
    "            result[gender].append(df[df['Gender'] == gender]['Count'].sum())\n",
    "\n",
    "    print(result)\n",
    "    \n",
    "count_dynamics(YEARS)"
   ]
  },
  {
   "cell_type": "code",
   "execution_count": null,
   "metadata": {},
   "outputs": [],
   "source": []
  }
 ],
 "metadata": {
  "kernelspec": {
   "display_name": "Python 3",
   "language": "python",
   "name": "python3"
  },
  "language_info": {
   "codemirror_mode": {
    "name": "ipython",
    "version": 3
   },
   "file_extension": ".py",
   "mimetype": "text/x-python",
   "name": "python",
   "nbconvert_exporter": "python",
   "pygments_lexer": "ipython3",
   "version": "3.6.4"
  }
 },
 "nbformat": 4,
 "nbformat_minor": 2
}
